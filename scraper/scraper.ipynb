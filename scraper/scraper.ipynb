{
 "cells": [
  {
   "cell_type": "code",
   "execution_count": 1,
   "id": "initial_id",
   "metadata": {
    "collapsed": true,
    "ExecuteTime": {
     "end_time": "2023-09-19T21:44:54.725922Z",
     "start_time": "2023-09-19T21:44:53.490818Z"
    }
   },
   "outputs": [],
   "source": [
    "from linkedinscraper import LinkedinScraper\n",
    "import linkedinscraper\n",
    "from database.database import SessionLocal, engine\n",
    "from database import crud, database, models\n",
    "from sqlalchemy import select, func\n",
    "from database.models import JobPost, Company\n",
    "import json"
   ]
  },
  {
   "cell_type": "code",
   "execution_count": 2,
   "outputs": [],
   "source": [
    "db = SessionLocal()"
   ],
   "metadata": {
    "collapsed": false,
    "ExecuteTime": {
     "end_time": "2023-09-19T21:44:55.649372Z",
     "start_time": "2023-09-19T21:44:55.639339Z"
    }
   },
   "id": "f71917475a0a6642"
  },
  {
   "cell_type": "code",
   "execution_count": 3,
   "outputs": [
    {
     "name": "stdout",
     "output_type": "stream",
     "text": [
      "(5152, 'https://www.linkedin.com/jobs/view/3652496936/', 'Application Security Engineer', 'Build a Bigger, Better, Bolder FutureImagine working for a company that measures its success based off the growth of its colleagues, a company that i ... (2950 characters truncated) ... fied Ethical Hacker (CEH), Certified Information Systems Security Professional (CISSP), or related certifications with Azure, AWS and GCP are a plus.', 'Little Caesars Pizza', 'Detroit Metropolitan Area', 1695157957, 'success', 'software engineer', 'United States')\n",
      "(5137, 'https://www.linkedin.com/jobs/view/3724646193/', 'Systems Engineer', 'Overview\\n\\nSystems Integration Engineer \\n\\nneeded in our Autocoding business - remote\\n\\nOur Commitment to YOU!\\n\\nAt JBT, we value our employees a ... (5052 characters truncated) ... l not be able to give you a status update regarding your application and will not be the individuals making a decision regarding your employment.\\n\\n', 'JBT Corporation', 'Dallas, TX', 1695157174, 'success', 'software engineer', 'United States')\n",
      "(5144, 'https://www.linkedin.com/jobs/view/3720034943/', 'Software Development Engineer', \"Your Title: Software Engineer\\nJob Location: Portland, OR or Seattle, WA (Preferred)\\nOur Department: Viewpoint\\nWhat You Will Do\\nThe Software Devel ... (4626 characters truncated) ... ely held religious beliefs in our job\\napplication procedures. If you need assistance or an accommodation for your job, contact\\nAskPX@px.trimble.com\", 'Trimble Inc.', 'United States', 1695157157, 'success', 'software engineer', 'United States')\n"
     ]
    }
   ],
   "source": [
    "stmt = select(\n",
    "    JobPost.id,\n",
    "    JobPost.url,\n",
    "    JobPost.title,\n",
    "    JobPost.description,\n",
    "    Company.name.label('company_name'),\n",
    "    JobPost.location,\n",
    "    JobPost.timestamp,\n",
    "    JobPost.status,\n",
    "    JobPost.keywords,\n",
    "    JobPost.search_location\n",
    ").join(Company).order_by(JobPost.timestamp.desc()).offset(0).limit(3)\n",
    "results = db.execute(stmt)\n",
    "for row in results:\n",
    "    print(row)"
   ],
   "metadata": {
    "collapsed": false,
    "ExecuteTime": {
     "end_time": "2023-09-19T21:44:57.102237Z",
     "start_time": "2023-09-19T21:44:57.051191Z"
    }
   },
   "id": "54dbea76fd879deb"
  },
  {
   "cell_type": "markdown",
   "source": [
    "# filter job posts\n",
    "\n",
    "doesn't fit will have priority=0\n",
    "not yet analyzed is -1 or `is None`(default)"
   ],
   "metadata": {
    "collapsed": false
   },
   "id": "ba4cd51085d32e7c"
  },
  {
   "cell_type": "code",
   "execution_count": 5,
   "outputs": [
    {
     "name": "stdout",
     "output_type": "stream",
     "text": [
      "False\n"
     ]
    }
   ],
   "source": [
    "res = db.query(JobPost).first()\n",
    "print(res.priority is None)"
   ],
   "metadata": {
    "collapsed": false,
    "ExecuteTime": {
     "end_time": "2023-09-19T21:45:28.461401Z",
     "start_time": "2023-09-19T21:45:28.446512Z"
    }
   },
   "id": "96b850ec6f2c1854"
  },
  {
   "cell_type": "code",
   "execution_count": 6,
   "outputs": [],
   "source": [
    "stmt = select(JobPost, Company).join(Company).order_by(JobPost.timestamp.desc())\n",
    "res = db.execute(stmt)\n",
    "for row in res:\n",
    "    job_post, company = row\n",
    "    job_post.priority = linkedinscraper.get_priority_of_job_post(job_post, company)\n",
    "    db.commit()"
   ],
   "metadata": {
    "collapsed": false,
    "ExecuteTime": {
     "end_time": "2023-09-19T21:47:40.784902Z",
     "start_time": "2023-09-19T21:45:32.902348Z"
    }
   },
   "id": "8f9857ab249ab9e6"
  },
  {
   "cell_type": "code",
   "execution_count": null,
   "outputs": [],
   "source": [],
   "metadata": {
    "collapsed": false
   },
   "id": "2a3581bffcdc7962"
  }
 ],
 "metadata": {
  "kernelspec": {
   "display_name": "Python 3",
   "language": "python",
   "name": "python3"
  },
  "language_info": {
   "codemirror_mode": {
    "name": "ipython",
    "version": 2
   },
   "file_extension": ".py",
   "mimetype": "text/x-python",
   "name": "python",
   "nbconvert_exporter": "python",
   "pygments_lexer": "ipython2",
   "version": "2.7.6"
  }
 },
 "nbformat": 4,
 "nbformat_minor": 5
}
