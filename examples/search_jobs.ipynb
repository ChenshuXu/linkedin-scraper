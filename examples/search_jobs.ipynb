{
 "cells": [
  {
   "cell_type": "code",
   "execution_count": 1,
   "id": "9da4f65f-2396-448e-ac29-0a1e52340b98",
   "metadata": {
    "ExecuteTime": {
     "end_time": "2023-09-05T21:54:45.787815Z",
     "start_time": "2023-09-05T21:54:45.519914Z"
    }
   },
   "outputs": [],
   "source": [
    "import json\n",
    "from linkedin_api import Linkedin\n",
    "import datetime\n",
    "import pytz\n",
    "import sqlite3"
   ]
  },
  {
   "cell_type": "code",
   "execution_count": 2,
   "id": "initial_id",
   "metadata": {
    "ExecuteTime": {
     "end_time": "2023-09-05T21:54:48.380089Z",
     "start_time": "2023-09-05T21:54:47.333861Z"
    }
   },
   "outputs": [
    {
     "name": "stderr",
     "output_type": "stream",
     "text": [
      "DEBUG:linkedin_api.client:Attempting to use cached cookies\n",
      "DEBUG:linkedin_api.client:Using cached cookies\n",
      "DEBUG:urllib3.connectionpool:Starting new HTTPS connection (1): www.linkedin.com:443\n",
      "DEBUG:urllib3.connectionpool:https://www.linkedin.com:443 \"GET / HTTP/1.1\" 200 None\n"
     ]
    }
   ],
   "source": [
    "USERNAME = \"chenshux@usc.edu\"\n",
    "PASSWORD = \"jaywalker-diary-dried\"\n",
    "PUBLIC_PROFILE_ID = \"chenshu-xu\"\n",
    "PROFILE_ID = \"ACoAABdMtAUB1ORayXH2URJzEym1lJ8_M34crTA\"\n",
    "\n",
    "linkedin = Linkedin(USERNAME, PASSWORD, debug=True)"
   ]
  },
  {
   "cell_type": "code",
   "execution_count": 3,
   "id": "f3b6060a7aebcf7f",
   "metadata": {
    "collapsed": false,
    "ExecuteTime": {
     "end_time": "2023-09-05T21:54:52.484005Z",
     "start_time": "2023-09-05T21:54:49.559808Z"
    }
   },
   "outputs": [
    {
     "name": "stderr",
     "output_type": "stream",
     "text": [
      "DEBUG:urllib3.connectionpool:Starting new HTTPS connection (1): www.linkedin.com:443\n",
      "DEBUG:urllib3.connectionpool:https://www.linkedin.com:443 \"GET /voyager/api/voyagerJobsDashJobCards?decorationId=com.linkedin.voyager.dash.deco.jobs.search.JobSearchCardsCollection-174&count=5&q=jobSearch&query=(origin:JOB_SEARCH_PAGE_QUERY_EXPANSION,keywords:softwareengineer,selectedFilters:(timePostedRange:List(r86400)),spellCorrectionEnabled:true)&start=0 HTTP/1.1\" 200 6858\n"
     ]
    }
   ],
   "source": [
    "jobs = linkedin.search_jobs(keywords=\"software engineer\", limit=5)\n",
    "with open(\"jobs_5.json\", \"w\") as f:\n",
    "    json.dump(jobs, f, indent=4)"
   ]
  },
  {
   "cell_type": "code",
   "execution_count": 4,
   "id": "dfcfa85f92ae58f8",
   "metadata": {
    "collapsed": false,
    "ExecuteTime": {
     "end_time": "2023-09-05T21:55:09.738897Z",
     "start_time": "2023-09-05T21:54:56.084284Z"
    }
   },
   "outputs": [
    {
     "name": "stderr",
     "output_type": "stream",
     "text": [
      "DEBUG:urllib3.connectionpool:https://www.linkedin.com:443 \"GET /voyager/api/jobs/jobPostings/3705615609?decorationId=com.linkedin.voyager.deco.jobs.web.shared.WebLightJobPosting-23 HTTP/1.1\" 200 5460\n",
      "DEBUG:urllib3.connectionpool:https://www.linkedin.com:443 \"GET /voyager/api/jobs/jobPostings/3713337625?decorationId=com.linkedin.voyager.deco.jobs.web.shared.WebLightJobPosting-23 HTTP/1.1\" 200 3481\n",
      "DEBUG:urllib3.connectionpool:https://www.linkedin.com:443 \"GET /voyager/api/jobs/jobPostings/3705611377?decorationId=com.linkedin.voyager.deco.jobs.web.shared.WebLightJobPosting-23 HTTP/1.1\" 200 4497\n",
      "DEBUG:urllib3.connectionpool:https://www.linkedin.com:443 \"GET /voyager/api/jobs/jobPostings/3675174189?decorationId=com.linkedin.voyager.deco.jobs.web.shared.WebLightJobPosting-23 HTTP/1.1\" 200 2976\n",
      "DEBUG:urllib3.connectionpool:https://www.linkedin.com:443 \"GET /voyager/api/jobs/jobPostings/3713120642?decorationId=com.linkedin.voyager.deco.jobs.web.shared.WebLightJobPosting-23 HTTP/1.1\" 200 3651\n"
     ]
    }
   ],
   "source": [
    "job_details = []\n",
    "\n",
    "for job in jobs:\n",
    "    job_id = job['entityUrn'].split(':')[-1] # \"trackingUrn\": \"urn:li:jobPosting:3648431448\"\n",
    "    job_detail = {\n",
    "        \"jobId\": job_id,\n",
    "        \"status\": \"fail\"\n",
    "    }\n",
    "    try:\n",
    "        job_detail_data = linkedin.get_job(job_id)\n",
    "        \n",
    "        company_details = job_detail_data[\"companyDetails\"][\"com.linkedin.voyager.deco.jobs.web.shared.WebCompactJobPostingCompany\"][\"companyResolutionResult\"]\n",
    "        \n",
    "        job_url = f\"https://www.linkedin.com/jobs/view/{job_id}\"\n",
    "        \n",
    "        listed_time = datetime.datetime.fromtimestamp(job_detail_data[\"listedAt\"]/1000)\n",
    "        pdt_tz = pytz.timezone('America/Los_Angeles')\n",
    "        pdt_dt = pdt_tz.localize(listed_time)\n",
    "        pdt_str = pdt_dt.strftime('%Y-%m-%d %H:%M:%S %Z')\n",
    "        \n",
    "        job_detail.update({\n",
    "            \"status\": \"success\",\n",
    "            \"jobUrl\": job_url,\n",
    "            \"companyDetails\": {\n",
    "                \"companyId\": company_details[\"entityUrn\"],\n",
    "                \"companyName\": company_details[\"name\"],\n",
    "                \"companyUrl\": company_details[\"url\"]\n",
    "            },\n",
    "            \"description\": job_detail_data[\"description\"][\"text\"],\n",
    "            \"title\": job_detail_data[\"title\"],\n",
    "            \"postTime\": pdt_str,\n",
    "            \"postTimeStamp\": listed_time.timestamp()\n",
    "        })\n",
    "    finally:\n",
    "        job_details.append(job_detail)\n",
    "        \n",
    "with open(\"jobDetails_5.json\", \"w\") as f:\n",
    "    json.dump(job_details, f, indent=4)"
   ]
  },
  {
   "cell_type": "code",
   "execution_count": 5,
   "outputs": [],
   "source": [
    "connection = sqlite3.connect('mydatabase.db')\n",
    "cursor = connection.cursor()"
   ],
   "metadata": {
    "collapsed": false,
    "ExecuteTime": {
     "end_time": "2023-09-05T21:55:32.407903Z",
     "start_time": "2023-09-05T21:55:32.395029Z"
    }
   },
   "id": "48d5b2586d056207"
  },
  {
   "cell_type": "code",
   "execution_count": 6,
   "outputs": [],
   "source": [
    "cursor.execute(\n",
    "    '''\n",
    "    create table if not exists company\n",
    "    (\n",
    "        companyId   TEXT not null,\n",
    "        companyName TEXT,\n",
    "        companyUrl  TEXT,\n",
    "        id          INTEGER\n",
    "            constraint company_pk\n",
    "                primary key autoincrement,\n",
    "        constraint company_pk2\n",
    "            unique (companyId, id)\n",
    "    )\n",
    "    '''\n",
    ")\n",
    "connection.commit()"
   ],
   "metadata": {
    "collapsed": false,
    "ExecuteTime": {
     "end_time": "2023-09-05T21:55:35.814239Z",
     "start_time": "2023-09-05T21:55:35.808134Z"
    }
   },
   "id": "5ba25e7f2d3c4dd5"
  },
  {
   "cell_type": "code",
   "execution_count": 7,
   "id": "d52e65cd04859598",
   "metadata": {
    "collapsed": false,
    "ExecuteTime": {
     "end_time": "2023-09-05T21:55:38.147629Z",
     "start_time": "2023-09-05T21:55:38.136528Z"
    }
   },
   "outputs": [],
   "source": [
    "cursor.execute(\n",
    "    '''\n",
    "    create table if not exists jobPost\n",
    "    (\n",
    "        jobId         TEXT not null,\n",
    "        jobUrl        TEXT,\n",
    "        title         TEXT,\n",
    "        companyId     INTEGER\n",
    "            constraint jobPost_companyId_fk\n",
    "                references company,\n",
    "        description   TEXT,\n",
    "        postTime      TEXT,\n",
    "        postTimeStamp INTEGER,\n",
    "        status        TEXT,\n",
    "        count         integer,\n",
    "        id            INTEGER\n",
    "            constraint jobPost_pk\n",
    "                primary key autoincrement,\n",
    "        constraint jobPost_pk2\n",
    "            unique (jobId, id)\n",
    "    );\n",
    "    '''\n",
    ")\n",
    "connection.commit()"
   ]
  },
  {
   "cell_type": "code",
   "execution_count": 8,
   "outputs": [],
   "source": [
    "cursor.execute(\n",
    "    '''\n",
    "    create table if not exists log\n",
    "    (\n",
    "        id        INTEGER\n",
    "            constraint log_pk\n",
    "                primary key autoincrement,\n",
    "        timeStamp INTEGER,\n",
    "        jobPostId INTEGER not null\n",
    "            constraint log_pk2\n",
    "                unique\n",
    "            constraint log_jobPost_id_fk\n",
    "                references jobPost,\n",
    "        message   TEXT\n",
    "    );\n",
    "    '''\n",
    ")\n",
    "connection.commit()"
   ],
   "metadata": {
    "collapsed": false,
    "ExecuteTime": {
     "end_time": "2023-09-05T21:55:41.040155Z",
     "start_time": "2023-09-05T21:55:41.031448Z"
    }
   },
   "id": "8f9a8241d3328c45"
  },
  {
   "cell_type": "code",
   "execution_count": 17,
   "outputs": [],
   "source": [
    "for job_detail in job_details:\n",
    "    company_details = job_detail[\"companyDetails\"]\n",
    "    # if company not exit, add to company table\n",
    "    cursor.execute(\"SELECT id FROM company WHERE companyId = ?;\", (company_details[\"companyId\"],))\n",
    "    row = cursor.fetchone()\n",
    "    if row is None:\n",
    "        cursor.execute(\"INSERT INTO company (companyId, companyName, companyUrl) VALUES (?, ?, ?);\",\n",
    "                       (company_details[\"companyId\"], \n",
    "                        company_details[\"companyName\"], \n",
    "                        company_details[\"companyUrl\"]))\n",
    "        company_row_id = cursor.lastrowid\n",
    "    else:\n",
    "        company_row_id = int(row[0])\n",
    "    connection.commit()\n",
    "    \n",
    "    cursor.execute('''\n",
    "        insert into jobPost (jobId, jobUrl, title, companyId, description, postTime, postTimeStamp, status) values (?,?,?,?,?,?,?,?);\n",
    "    ''', (\n",
    "            job_detail[\"jobId\"], \n",
    "            job_detail[\"jobUrl\"], \n",
    "            job_detail[\"title\"], \n",
    "            company_row_id, \n",
    "            job_detail[\"description\"], \n",
    "            job_detail[\"postTime\"], \n",
    "            job_detail[\"postTimeStamp\"], \n",
    "            job_detail[\"status\"]\n",
    "        )\n",
    "   )\n",
    "    connection.commit()\n",
    "        "
   ],
   "metadata": {
    "collapsed": false,
    "ExecuteTime": {
     "end_time": "2023-09-05T22:05:30.628067Z",
     "start_time": "2023-09-05T22:05:30.611308Z"
    }
   },
   "id": "379613d07b7870b0"
  },
  {
   "cell_type": "code",
   "execution_count": null,
   "outputs": [],
   "source": [],
   "metadata": {
    "collapsed": false
   },
   "id": "9d42641b983c762d"
  }
 ],
 "metadata": {
  "kernelspec": {
   "display_name": "Python 3 (ipykernel)",
   "language": "python",
   "name": "python3"
  },
  "language_info": {
   "codemirror_mode": {
    "name": "ipython",
    "version": 3
   },
   "file_extension": ".py",
   "mimetype": "text/x-python",
   "name": "python",
   "nbconvert_exporter": "python",
   "pygments_lexer": "ipython3",
   "version": "3.10.12"
  }
 },
 "nbformat": 4,
 "nbformat_minor": 5
}
